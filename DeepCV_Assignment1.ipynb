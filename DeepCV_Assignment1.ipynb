{
  "nbformat": 4,
  "nbformat_minor": 0,
  "metadata": {
    "colab": {
      "provenance": []
    },
    "kernelspec": {
      "name": "python3",
      "display_name": "Python 3"
    },
    "language_info": {
      "name": "python"
    }
  },
  "cells": [
    {
      "cell_type": "code",
      "source": [
        "import numpy as np\n",
        "\n",
        "class MLP:\n",
        "    def __init__(self, input_size, hidden_size, output_size):\n",
        "        self.input_size = input_size\n",
        "        self.hidden_size = hidden_size\n",
        "        self.output_size = output_size\n",
        "        self.weights1 = np.random.randn(input_size, hidden_size)\n",
        "        self.weights2 = np.random.randn(hidden_size, output_size)\n",
        "        \n",
        "    def sigmoid(self, x):\n",
        "        return 1 / (1 + np.exp(-x))\n",
        "    \n",
        "    def forward(self, x,y):\n",
        "        Y=y\n",
        "        hidden_layer = self.sigmoid(np.dot(x, self.weights1))\n",
        "        output_layer = np.dot(hidden_layer, self.weights2)\n",
        "        return output_layer\n",
        "\n"
      ],
      "metadata": {
        "id": "AhBjLlQ1o-GE"
      },
      "execution_count": null,
      "outputs": []
    },
    {
      "cell_type": "code",
      "source": [
        "    # Fitness Function\n",
        "    def fitness_function(self, x, y):\n",
        "        y_hat = self.forward(x)\n",
        "        mse = np.mean((y - y_hat) ** 2)\n",
        "        return mse\n",
        "\n",
        "    #Grey Wolf Optimizer Algorithm\n",
        "\n",
        "    def GWO(self, fit_fun, lb, ub, dim, search_agents, max_iter,X,Y):\n",
        "          alpha_pos = np.zeros(dim)\n",
        "          beta_pos = np.zeros(dim)\n",
        "          delta_pos = np.zeros(dim)\n",
        "          alpha_score = float(\"inf\")\n",
        "          beta_score = float(\"inf\")\n",
        "          delta_score = float(\"inf\")\n",
        "          pos = np.zeros((search_agents, dim))\n",
        "          for i in range(search_agents):\n",
        "              pos[i, :] = lb + (ub - lb) * np.random.rand(dim)\n",
        "          for t in range(1, max_iter + 1):\n",
        "              for i in range(search_agents):\n",
        "                # Update the positions of the alpha, beta, and delta wolves\n",
        "                if fit_fun(self,X[i,:],Y[i]) < alpha_score:\n",
        "                    alpha_pos = X[i,:]\n",
        "                    alpha_score = fit_fun(self,X[i,:],Y[i])\n",
        "                elif fit_fun(X[i,:],Y[i]) < beta_score:\n",
        "                    beta_pos = X[i,:]\n",
        "                    beta_score = fit_fun(self,X[i,:],Y[i])\n",
        "                elif fit_fun(X[i,:],Y[i]) < delta_score:\n",
        "                    delta_pos = X[i,:]\n",
        "                    delta_score = fit_fun(X[i,:],Y[i])\n",
        "          # Update the positions of the search agents\n",
        "          a = 2 - 2 * t / max_iter\n",
        "          for i in range(search_agents):\n",
        "                r1 = np.random.rand(dim)\n",
        "                r2 = np.random.rand(dim)\n",
        "                A1 = 2 * a * r1 - a\n",
        "                C1 = 2 * r2\n",
        "                D_alpha = abs(C1 * alpha_pos - X[i,:])\n",
        "                X1 = alpha_pos - A1 * D_alpha\n",
        "                r1 = np.random.rand(dim)\n",
        "                r2 = np.random.rand(dim)\n",
        "                A2 = 2 * a * r1 - a\n",
        "                C2 = 2 * r2\n",
        "                D_beta = abs(C2 * beta_pos - X[i,:])\n",
        "                X2 = beta_pos - A2 * D_beta\n",
        "                r1 = np.random.rand(dim)\n",
        "                r2 = np.random.rand(dim)\n",
        "                A3 = 2 * a * r1 - a\n",
        "                C3 = 2 * r2\n",
        "                D_delta = abs(C3 * delta_pos - X[i,:])\n",
        "                X3 = delta_pos - A3 * D_delta\n",
        "                X[i,:] = (X1 + X2 + X3) / 3\n",
        "          return alpha_pos, alpha_score\n",
        "\n",
        "\n",
        "\n",
        "    # Define the bounds and dimensionality of the search space\n",
        "    lb = -5.12\n",
        "    ub = 5.12\n",
        "    dim = 30\n",
        "\n",
        "    # Set the parameters for the GWO algorithm\n",
        "    search_agents = 10\n",
        "    max_iter = 100\n",
        "\n",
        "    # Call the GWO algorithm\n",
        "    alpha_pos, alpha_score = GWO(self,fit_fun, lb, ub, dim, search_agents, max_iter,X,Y)\n",
        "\n",
        "    print(\"Best solution:\", alpha_pos)\n",
        "    print(\"Best fitness function value:\", alpha_score)"
      ],
      "metadata": {
        "id": "lX7HbKjV20bC",
        "colab": {
          "base_uri": "https://localhost:8080/",
          "height": 235
        },
        "outputId": "1064be6d-7022-4620-a3e6-890e05521930"
      },
      "execution_count": null,
      "outputs": [
        {
          "output_type": "error",
          "ename": "NameError",
          "evalue": "ignored",
          "traceback": [
            "\u001b[0;31m---------------------------------------------------------------------------\u001b[0m",
            "\u001b[0;31mNameError\u001b[0m                                 Traceback (most recent call last)",
            "\u001b[0;32m<ipython-input-55-d2580e33042d>\u001b[0m in \u001b[0;36m<cell line: 67>\u001b[0;34m()\u001b[0m\n\u001b[1;32m     65\u001b[0m \u001b[0;34m\u001b[0m\u001b[0m\n\u001b[1;32m     66\u001b[0m \u001b[0;31m# Call the GWO algorithm\u001b[0m\u001b[0;34m\u001b[0m\u001b[0;34m\u001b[0m\u001b[0m\n\u001b[0;32m---> 67\u001b[0;31m \u001b[0malpha_pos\u001b[0m\u001b[0;34m,\u001b[0m \u001b[0malpha_score\u001b[0m \u001b[0;34m=\u001b[0m \u001b[0mGWO\u001b[0m\u001b[0;34m(\u001b[0m\u001b[0mself\u001b[0m\u001b[0;34m,\u001b[0m\u001b[0mfit_fun\u001b[0m\u001b[0;34m,\u001b[0m \u001b[0mlb\u001b[0m\u001b[0;34m,\u001b[0m \u001b[0mub\u001b[0m\u001b[0;34m,\u001b[0m \u001b[0mdim\u001b[0m\u001b[0;34m,\u001b[0m \u001b[0msearch_agents\u001b[0m\u001b[0;34m,\u001b[0m \u001b[0mmax_iter\u001b[0m\u001b[0;34m,\u001b[0m\u001b[0mX\u001b[0m\u001b[0;34m,\u001b[0m\u001b[0mY\u001b[0m\u001b[0;34m)\u001b[0m\u001b[0;34m\u001b[0m\u001b[0;34m\u001b[0m\u001b[0m\n\u001b[0m\u001b[1;32m     68\u001b[0m \u001b[0;34m\u001b[0m\u001b[0m\n\u001b[1;32m     69\u001b[0m \u001b[0mprint\u001b[0m\u001b[0;34m(\u001b[0m\u001b[0;34m\"Best solution:\"\u001b[0m\u001b[0;34m,\u001b[0m \u001b[0malpha_pos\u001b[0m\u001b[0;34m)\u001b[0m\u001b[0;34m\u001b[0m\u001b[0;34m\u001b[0m\u001b[0m\n",
            "\u001b[0;31mNameError\u001b[0m: name 'self' is not defined"
          ]
        }
      ]
    },
    {
      "cell_type": "code",
      "source": [
        "X = np.array([[0, 0], [0, 1], [1, 0], [1, 1]])\n",
        "Y = np.array([[0], [1], [1], [0]])\n",
        "\n",
        "mlp = MLP(input_size=2, hidden_size=4, output_size=1)\n",
        "\n",
        "# Make predictions on new data\n",
        "new_data = np.array([[0, 0], [0, 1], [1, 0], [1, 1]])\n",
        "predictions = mlp.forward(new_data,Y)\n",
        "print(predictions)\n"
      ],
      "metadata": {
        "colab": {
          "base_uri": "https://localhost:8080/"
        },
        "id": "gnqBp_zH20V2",
        "outputId": "65eb968b-3f8d-42aa-c671-c8e7b77251f1"
      },
      "execution_count": null,
      "outputs": [
        {
          "output_type": "stream",
          "name": "stdout",
          "text": [
            "[[ 0.83925055]\n",
            " [ 0.23917531]\n",
            " [ 0.47186718]\n",
            " [-0.09359152]]\n"
          ]
        }
      ]
    }
  ]
}